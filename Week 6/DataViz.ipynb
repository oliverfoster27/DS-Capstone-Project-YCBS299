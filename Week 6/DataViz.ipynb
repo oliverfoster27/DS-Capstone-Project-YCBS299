{
 "cells": [
  {
   "cell_type": "code",
   "execution_count": 34,
   "metadata": {},
   "outputs": [],
   "source": [
    "import pandas as pd\n",
    "import numpy as np\n",
    "import matplotlib.pyplot as plt\n",
    "%matplotlib inline"
   ]
  },
  {
   "cell_type": "code",
   "execution_count": 85,
   "metadata": {},
   "outputs": [
    {
     "name": "stderr",
     "output_type": "stream",
     "text": [
      "C:\\Users\\olive\\AppData\\Local\\Continuum\\anaconda3\\envs\\deeplearning\\lib\\site-packages\\IPython\\core\\interactiveshell.py:3049: DtypeWarning: Columns (4) have mixed types. Specify dtype option on import or set low_memory=False.\n",
      "  interactivity=interactivity, compiler=compiler, result=result)\n"
     ]
    }
   ],
   "source": [
    "df = pd.read_csv(r\"C:\\Users\\olive\\Documents\\GitHub\\DS-Capstone-Project-YCBS299\\Week 6\\unhcr_popstats_export_time_series_all_data.csv\",\n",
    "                encoding='latin')"
   ]
  },
  {
   "cell_type": "code",
   "execution_count": 86,
   "metadata": {},
   "outputs": [
    {
     "data": {
      "text/html": [
       "<div>\n",
       "<style scoped>\n",
       "    .dataframe tbody tr th:only-of-type {\n",
       "        vertical-align: middle;\n",
       "    }\n",
       "\n",
       "    .dataframe tbody tr th {\n",
       "        vertical-align: top;\n",
       "    }\n",
       "\n",
       "    .dataframe thead th {\n",
       "        text-align: right;\n",
       "    }\n",
       "</style>\n",
       "<table border=\"1\" class=\"dataframe\">\n",
       "  <thead>\n",
       "    <tr style=\"text-align: right;\">\n",
       "      <th></th>\n",
       "      <th>Year</th>\n",
       "      <th>Country / territory of asylum/residence</th>\n",
       "      <th>Origin</th>\n",
       "      <th>Population type</th>\n",
       "      <th>Value</th>\n",
       "    </tr>\n",
       "  </thead>\n",
       "  <tbody>\n",
       "    <tr>\n",
       "      <th>0</th>\n",
       "      <td>1951</td>\n",
       "      <td>Australia</td>\n",
       "      <td>Various/Unknown</td>\n",
       "      <td>Refugees (incl. refugee-like situations)</td>\n",
       "      <td>180000</td>\n",
       "    </tr>\n",
       "    <tr>\n",
       "      <th>1</th>\n",
       "      <td>1951</td>\n",
       "      <td>Austria</td>\n",
       "      <td>Various/Unknown</td>\n",
       "      <td>Refugees (incl. refugee-like situations)</td>\n",
       "      <td>282000</td>\n",
       "    </tr>\n",
       "    <tr>\n",
       "      <th>2</th>\n",
       "      <td>1951</td>\n",
       "      <td>Belgium</td>\n",
       "      <td>Various/Unknown</td>\n",
       "      <td>Refugees (incl. refugee-like situations)</td>\n",
       "      <td>55000</td>\n",
       "    </tr>\n",
       "    <tr>\n",
       "      <th>3</th>\n",
       "      <td>1951</td>\n",
       "      <td>Canada</td>\n",
       "      <td>Various/Unknown</td>\n",
       "      <td>Refugees (incl. refugee-like situations)</td>\n",
       "      <td>168511</td>\n",
       "    </tr>\n",
       "    <tr>\n",
       "      <th>4</th>\n",
       "      <td>1951</td>\n",
       "      <td>China, Hong Kong SAR</td>\n",
       "      <td>Various/Unknown</td>\n",
       "      <td>Refugees (incl. refugee-like situations)</td>\n",
       "      <td>30000</td>\n",
       "    </tr>\n",
       "  </tbody>\n",
       "</table>\n",
       "</div>"
      ],
      "text/plain": [
       "   Year Country / territory of asylum/residence           Origin  \\\n",
       "0  1951                               Australia  Various/Unknown   \n",
       "1  1951                                 Austria  Various/Unknown   \n",
       "2  1951                                 Belgium  Various/Unknown   \n",
       "3  1951                                  Canada  Various/Unknown   \n",
       "4  1951                    China, Hong Kong SAR  Various/Unknown   \n",
       "\n",
       "                            Population type   Value  \n",
       "0  Refugees (incl. refugee-like situations)  180000  \n",
       "1  Refugees (incl. refugee-like situations)  282000  \n",
       "2  Refugees (incl. refugee-like situations)   55000  \n",
       "3  Refugees (incl. refugee-like situations)  168511  \n",
       "4  Refugees (incl. refugee-like situations)   30000  "
      ]
     },
     "execution_count": 86,
     "metadata": {},
     "output_type": "execute_result"
    }
   ],
   "source": [
    "df.head()"
   ]
  },
  {
   "cell_type": "code",
   "execution_count": 87,
   "metadata": {},
   "outputs": [],
   "source": [
    "#df.to_csv('dataset_cleaned.csv')"
   ]
  },
  {
   "cell_type": "markdown",
   "metadata": {},
   "source": [
    "### Summarize the trends for the different populations monitored by the UNHCR.\n",
    "\n",
    "See Tableau sheet \"QA\""
   ]
  },
  {
   "cell_type": "markdown",
   "metadata": {},
   "source": [
    "### Could you predict the approximate number of refugees in 2020, 2025 and 2030?"
   ]
  },
  {
   "cell_type": "code",
   "execution_count": 88,
   "metadata": {},
   "outputs": [],
   "source": [
    "df['Value'] = df['Value'].apply(lambda x: x if x!='*' else 0)\n",
    "df['Value'] = df['Value'].astype('int64')"
   ]
  },
  {
   "cell_type": "code",
   "execution_count": 89,
   "metadata": {},
   "outputs": [
    {
     "data": {
      "text/html": [
       "<div>\n",
       "<style scoped>\n",
       "    .dataframe tbody tr th:only-of-type {\n",
       "        vertical-align: middle;\n",
       "    }\n",
       "\n",
       "    .dataframe tbody tr th {\n",
       "        vertical-align: top;\n",
       "    }\n",
       "\n",
       "    .dataframe thead th {\n",
       "        text-align: right;\n",
       "    }\n",
       "</style>\n",
       "<table border=\"1\" class=\"dataframe\">\n",
       "  <thead>\n",
       "    <tr style=\"text-align: right;\">\n",
       "      <th></th>\n",
       "      <th>Year</th>\n",
       "      <th>Country / territory of asylum/residence</th>\n",
       "      <th>Origin</th>\n",
       "      <th>Population type</th>\n",
       "      <th>Value</th>\n",
       "    </tr>\n",
       "  </thead>\n",
       "  <tbody>\n",
       "    <tr>\n",
       "      <th>0</th>\n",
       "      <td>1951</td>\n",
       "      <td>Australia</td>\n",
       "      <td>Various/Unknown</td>\n",
       "      <td>Refugees (incl. refugee-like situations)</td>\n",
       "      <td>180000</td>\n",
       "    </tr>\n",
       "    <tr>\n",
       "      <th>1</th>\n",
       "      <td>1951</td>\n",
       "      <td>Austria</td>\n",
       "      <td>Various/Unknown</td>\n",
       "      <td>Refugees (incl. refugee-like situations)</td>\n",
       "      <td>282000</td>\n",
       "    </tr>\n",
       "    <tr>\n",
       "      <th>2</th>\n",
       "      <td>1951</td>\n",
       "      <td>Belgium</td>\n",
       "      <td>Various/Unknown</td>\n",
       "      <td>Refugees (incl. refugee-like situations)</td>\n",
       "      <td>55000</td>\n",
       "    </tr>\n",
       "    <tr>\n",
       "      <th>3</th>\n",
       "      <td>1951</td>\n",
       "      <td>Canada</td>\n",
       "      <td>Various/Unknown</td>\n",
       "      <td>Refugees (incl. refugee-like situations)</td>\n",
       "      <td>168511</td>\n",
       "    </tr>\n",
       "    <tr>\n",
       "      <th>4</th>\n",
       "      <td>1951</td>\n",
       "      <td>China, Hong Kong SAR</td>\n",
       "      <td>Various/Unknown</td>\n",
       "      <td>Refugees (incl. refugee-like situations)</td>\n",
       "      <td>30000</td>\n",
       "    </tr>\n",
       "  </tbody>\n",
       "</table>\n",
       "</div>"
      ],
      "text/plain": [
       "   Year Country / territory of asylum/residence           Origin  \\\n",
       "0  1951                               Australia  Various/Unknown   \n",
       "1  1951                                 Austria  Various/Unknown   \n",
       "2  1951                                 Belgium  Various/Unknown   \n",
       "3  1951                                  Canada  Various/Unknown   \n",
       "4  1951                    China, Hong Kong SAR  Various/Unknown   \n",
       "\n",
       "                            Population type   Value  \n",
       "0  Refugees (incl. refugee-like situations)  180000  \n",
       "1  Refugees (incl. refugee-like situations)  282000  \n",
       "2  Refugees (incl. refugee-like situations)   55000  \n",
       "3  Refugees (incl. refugee-like situations)  168511  \n",
       "4  Refugees (incl. refugee-like situations)   30000  "
      ]
     },
     "execution_count": 89,
     "metadata": {},
     "output_type": "execute_result"
    }
   ],
   "source": [
    "df.head()"
   ]
  },
  {
   "cell_type": "code",
   "execution_count": 90,
   "metadata": {},
   "outputs": [
    {
     "data": {
      "text/plain": [
       "{'Asylum-seekers',\n",
       " 'Internally displaced persons',\n",
       " 'Others of concern',\n",
       " 'Refugees (incl. refugee-like situations)',\n",
       " 'Returned IDPs',\n",
       " 'Returned refugees',\n",
       " 'Stateless persons'}"
      ]
     },
     "execution_count": 90,
     "metadata": {},
     "output_type": "execute_result"
    }
   ],
   "source": [
    "set(df['Population type'])"
   ]
  },
  {
   "cell_type": "code",
   "execution_count": 91,
   "metadata": {},
   "outputs": [],
   "source": [
    "refugees = df.loc[df['Population type']=='Refugees (incl. refugee-like situations)']"
   ]
  },
  {
   "cell_type": "code",
   "execution_count": 92,
   "metadata": {},
   "outputs": [],
   "source": [
    "ref_yearly = refugees.groupby(['Year']).agg({'Value': 'sum'})"
   ]
  },
  {
   "cell_type": "code",
   "execution_count": 93,
   "metadata": {},
   "outputs": [
    {
     "data": {
      "text/plain": [
       "<matplotlib.axes._subplots.AxesSubplot at 0x16722f85630>"
      ]
     },
     "execution_count": 93,
     "metadata": {},
     "output_type": "execute_result"
    },
    {
     "data": {
      "image/png": "[encoded data removed]",
      "text/plain": [
       "<Figure size 432x288 with 1 Axes>"
      ]
     },
     "metadata": {
      "needs_background": "light"
     },
     "output_type": "display_data"
    }
   ],
   "source": [
    "ref_yearly.plot()"
   ]
  },
  {
   "cell_type": "code",
   "execution_count": 94,
   "metadata": {
    "scrolled": true
   },
   "outputs": [],
   "source": [
    "from statsmodels.tsa.holtwinters import Holt"
   ]
  },
  {
   "cell_type": "markdown",
   "metadata": {},
   "source": [
    "# Use simple holt for forecasting global refugees"
   ]
  },
  {
   "cell_type": "code",
   "execution_count": 95,
   "metadata": {},
   "outputs": [
    {
     "name": "stderr",
     "output_type": "stream",
     "text": [
      "C:\\Users\\olive\\AppData\\Local\\Continuum\\anaconda3\\envs\\deeplearning\\lib\\site-packages\\statsmodels\\tsa\\base\\tsa_model.py:221: ValueWarning: An unsupported index was provided and will be ignored when e.g. forecasting.\n",
      "  ' ignored when e.g. forecasting.', ValueWarning)\n",
      "C:\\Users\\olive\\AppData\\Local\\Continuum\\anaconda3\\envs\\deeplearning\\lib\\site-packages\\statsmodels\\tsa\\base\\tsa_model.py:531: ValueWarning: No supported index is available. Prediction results will be given with an integer index beginning at `start`.\n",
      "  ValueWarning)\n"
     ]
    }
   ],
   "source": [
    "forward = 80\n",
    "fit1 = Holt(ref_yearly).fit()\n",
    "y_hat = pd.DataFrame(fit1.forecast(forward))\n",
    "y_hat['index'] = np.arange(ref_yearly.index.max()+1, ref_yearly.index.max()+forward+1)\n",
    "y_hat = y_hat.set_index('index')"
   ]
  },
  {
   "cell_type": "code",
   "execution_count": 96,
   "metadata": {},
   "outputs": [
    {
     "name": "stdout",
     "output_type": "stream",
     "text": [
      "2020 Refugees: 22977946\n",
      "2025 Refugees: 29531798\n",
      "2030 Refugees: 36085650\n"
     ]
    }
   ],
   "source": [
    "print(\"2020 Refugees: {}\".format(int(y_hat.loc[2020, 0])))\n",
    "print(\"2025 Refugees: {}\".format(int(y_hat.loc[2025, 0])))\n",
    "print(\"2030 Refugees: {}\".format(int(y_hat.loc[2030, 0])))"
   ]
  },
  {
   "cell_type": "code",
   "execution_count": 97,
   "metadata": {},
   "outputs": [
    {
     "data": {
      "text/plain": [
       "<matplotlib.axes._subplots.AxesSubplot at 0x167203a2a90>"
      ]
     },
     "execution_count": 97,
     "metadata": {},
     "output_type": "execute_result"
    },
    {
     "data": {
      "image/png": "[encoded data removed]",
      "text/plain": [
       "<Figure size 432x288 with 1 Axes>"
      ]
     },
     "metadata": {
      "needs_background": "light"
     },
     "output_type": "display_data"
    }
   ],
   "source": [
    "ax = y_hat.plot()\n",
    "ref_yearly.plot(ax=ax)"
   ]
  },
  {
   "cell_type": "markdown",
   "metadata": {},
   "source": [
    "### Top 10 Countries with most internally displaced people"
   ]
  },
  {
   "cell_type": "code",
   "execution_count": 98,
   "metadata": {},
   "outputs": [],
   "source": [
    "int_disp_2018 = df.loc[(df['Population type']=='Internally displaced persons') & (df['Year']==2018)]"
   ]
  },
  {
   "cell_type": "code",
   "execution_count": 101,
   "metadata": {},
   "outputs": [
    {
     "data": {
      "text/html": [
       "<div>\n",
       "<style scoped>\n",
       "    .dataframe tbody tr th:only-of-type {\n",
       "        vertical-align: middle;\n",
       "    }\n",
       "\n",
       "    .dataframe tbody tr th {\n",
       "        vertical-align: top;\n",
       "    }\n",
       "\n",
       "    .dataframe thead th {\n",
       "        text-align: right;\n",
       "    }\n",
       "</style>\n",
       "<table border=\"1\" class=\"dataframe\">\n",
       "  <thead>\n",
       "    <tr style=\"text-align: right;\">\n",
       "      <th></th>\n",
       "      <th>Year</th>\n",
       "      <th>Country / territory of asylum/residence</th>\n",
       "      <th>Origin</th>\n",
       "      <th>Population type</th>\n",
       "      <th>Value</th>\n",
       "    </tr>\n",
       "  </thead>\n",
       "  <tbody>\n",
       "    <tr>\n",
       "      <th>183363</th>\n",
       "      <td>2018</td>\n",
       "      <td>Colombia</td>\n",
       "      <td>Colombia</td>\n",
       "      <td>Internally displaced persons</td>\n",
       "      <td>7816472</td>\n",
       "    </tr>\n",
       "    <tr>\n",
       "      <th>190969</th>\n",
       "      <td>2018</td>\n",
       "      <td>Syrian Arab Rep.</td>\n",
       "      <td>Syrian Arab Rep.</td>\n",
       "      <td>Internally displaced persons</td>\n",
       "      <td>6183920</td>\n",
       "    </tr>\n",
       "    <tr>\n",
       "      <th>183262</th>\n",
       "      <td>2018</td>\n",
       "      <td>Dem. Rep. of the Congo</td>\n",
       "      <td>Dem. Rep. of the Congo</td>\n",
       "      <td>Internally displaced persons</td>\n",
       "      <td>4516865</td>\n",
       "    </tr>\n",
       "    <tr>\n",
       "      <th>190412</th>\n",
       "      <td>2018</td>\n",
       "      <td>Somalia</td>\n",
       "      <td>Somalia</td>\n",
       "      <td>Internally displaced persons</td>\n",
       "      <td>2648000</td>\n",
       "    </tr>\n",
       "    <tr>\n",
       "      <th>184845</th>\n",
       "      <td>2018</td>\n",
       "      <td>Ethiopia</td>\n",
       "      <td>Ethiopia</td>\n",
       "      <td>Internally displaced persons</td>\n",
       "      <td>2615800</td>\n",
       "    </tr>\n",
       "    <tr>\n",
       "      <th>188863</th>\n",
       "      <td>2018</td>\n",
       "      <td>Nigeria</td>\n",
       "      <td>Nigeria</td>\n",
       "      <td>Internally displaced persons</td>\n",
       "      <td>2167924</td>\n",
       "    </tr>\n",
       "    <tr>\n",
       "      <th>192090</th>\n",
       "      <td>2018</td>\n",
       "      <td>Yemen</td>\n",
       "      <td>Yemen</td>\n",
       "      <td>Internally displaced persons</td>\n",
       "      <td>2144718</td>\n",
       "    </tr>\n",
       "    <tr>\n",
       "      <th>180698</th>\n",
       "      <td>2018</td>\n",
       "      <td>Afghanistan</td>\n",
       "      <td>Afghanistan</td>\n",
       "      <td>Internally displaced persons</td>\n",
       "      <td>2106893</td>\n",
       "    </tr>\n",
       "    <tr>\n",
       "      <th>190490</th>\n",
       "      <td>2018</td>\n",
       "      <td>South Sudan</td>\n",
       "      <td>South Sudan</td>\n",
       "      <td>Internally displaced persons</td>\n",
       "      <td>1878153</td>\n",
       "    </tr>\n",
       "    <tr>\n",
       "      <th>190295</th>\n",
       "      <td>2018</td>\n",
       "      <td>Sudan</td>\n",
       "      <td>Sudan</td>\n",
       "      <td>Internally displaced persons</td>\n",
       "      <td>1864195</td>\n",
       "    </tr>\n",
       "  </tbody>\n",
       "</table>\n",
       "</div>"
      ],
      "text/plain": [
       "        Year Country / territory of asylum/residence                  Origin  \\\n",
       "183363  2018                                Colombia                Colombia   \n",
       "190969  2018                        Syrian Arab Rep.        Syrian Arab Rep.   \n",
       "183262  2018                  Dem. Rep. of the Congo  Dem. Rep. of the Congo   \n",
       "190412  2018                                 Somalia                 Somalia   \n",
       "184845  2018                                Ethiopia                Ethiopia   \n",
       "188863  2018                                 Nigeria                 Nigeria   \n",
       "192090  2018                                   Yemen                   Yemen   \n",
       "180698  2018                             Afghanistan             Afghanistan   \n",
       "190490  2018                             South Sudan             South Sudan   \n",
       "190295  2018                                   Sudan                   Sudan   \n",
       "\n",
       "                     Population type    Value  \n",
       "183363  Internally displaced persons  7816472  \n",
       "190969  Internally displaced persons  6183920  \n",
       "183262  Internally displaced persons  4516865  \n",
       "190412  Internally displaced persons  2648000  \n",
       "184845  Internally displaced persons  2615800  \n",
       "188863  Internally displaced persons  2167924  \n",
       "192090  Internally displaced persons  2144718  \n",
       "180698  Internally displaced persons  2106893  \n",
       "190490  Internally displaced persons  1878153  \n",
       "190295  Internally displaced persons  1864195  "
      ]
     },
     "execution_count": 101,
     "metadata": {},
     "output_type": "execute_result"
    }
   ],
   "source": [
    "int_disp_2018.sort_values(by=['Value'], ascending=False).head(10)"
   ]
  },
  {
   "cell_type": "markdown",
   "metadata": {},
   "source": [
    "### Provide the top 10 countries which are the highest “generators” of refugees in a particular year\n",
    "\n",
    "See Tableau sheet \"QD\""
   ]
  },
  {
   "cell_type": "markdown",
   "metadata": {},
   "source": [
    "# Let's focus on The Syrian refugee crisis which has been in the news for a while now"
   ]
  },
  {
   "cell_type": "markdown",
   "metadata": {},
   "source": [
    "### Which year had the most Internally Displaced Persons (from 2011 to today)?"
   ]
  },
  {
   "cell_type": "code",
   "execution_count": 108,
   "metadata": {},
   "outputs": [],
   "source": [
    "from_2011 = df.loc[(df['Year'] > 2010) & (df['Population type'] == 'Internally displaced persons')]"
   ]
  },
  {
   "cell_type": "code",
   "execution_count": 110,
   "metadata": {},
   "outputs": [
    {
     "data": {
      "text/html": [
       "<div>\n",
       "<style scoped>\n",
       "    .dataframe tbody tr th:only-of-type {\n",
       "        vertical-align: middle;\n",
       "    }\n",
       "\n",
       "    .dataframe tbody tr th {\n",
       "        vertical-align: top;\n",
       "    }\n",
       "\n",
       "    .dataframe thead th {\n",
       "        text-align: right;\n",
       "    }\n",
       "</style>\n",
       "<table border=\"1\" class=\"dataframe\">\n",
       "  <thead>\n",
       "    <tr style=\"text-align: right;\">\n",
       "      <th></th>\n",
       "      <th>Value</th>\n",
       "    </tr>\n",
       "    <tr>\n",
       "      <th>Year</th>\n",
       "      <th></th>\n",
       "    </tr>\n",
       "  </thead>\n",
       "  <tbody>\n",
       "    <tr>\n",
       "      <th>2018</th>\n",
       "      <td>41408938</td>\n",
       "    </tr>\n",
       "    <tr>\n",
       "      <th>2017</th>\n",
       "      <td>39118516</td>\n",
       "    </tr>\n",
       "    <tr>\n",
       "      <th>2015</th>\n",
       "      <td>37494172</td>\n",
       "    </tr>\n",
       "    <tr>\n",
       "      <th>2016</th>\n",
       "      <td>36627127</td>\n",
       "    </tr>\n",
       "    <tr>\n",
       "      <th>2014</th>\n",
       "      <td>32274619</td>\n",
       "    </tr>\n",
       "    <tr>\n",
       "      <th>2013</th>\n",
       "      <td>23925555</td>\n",
       "    </tr>\n",
       "    <tr>\n",
       "      <th>2012</th>\n",
       "      <td>17670368</td>\n",
       "    </tr>\n",
       "    <tr>\n",
       "      <th>2011</th>\n",
       "      <td>15473378</td>\n",
       "    </tr>\n",
       "  </tbody>\n",
       "</table>\n",
       "</div>"
      ],
      "text/plain": [
       "         Value\n",
       "Year          \n",
       "2018  41408938\n",
       "2017  39118516\n",
       "2015  37494172\n",
       "2016  36627127\n",
       "2014  32274619\n",
       "2013  23925555\n",
       "2012  17670368\n",
       "2011  15473378"
      ]
     },
     "execution_count": 110,
     "metadata": {},
     "output_type": "execute_result"
    }
   ],
   "source": [
    "from_2011.groupby(['Year']).sum().sort_values(['Value'], ascending=False)"
   ]
  },
  {
   "cell_type": "markdown",
   "metadata": {},
   "source": [
    "Looks like 2018 has the most internally displaced persons"
   ]
  },
  {
   "cell_type": "markdown",
   "metadata": {},
   "source": [
    "### How does the number of IDPs compare to the population of Syria?\n",
    "See Tableau sheet \"Bb\""
   ]
  },
  {
   "cell_type": "markdown",
   "metadata": {},
   "source": [
    "### What was the total refugees from 2011 to today?\n",
    "See Tableau sheet \"Bc\""
   ]
  },
  {
   "cell_type": "markdown",
   "metadata": {},
   "source": [
    "### How does the number of refugees compare to the population of Syria?\n",
    "See Tableau sheet \"Bd\""
   ]
  },
  {
   "cell_type": "markdown",
   "metadata": {},
   "source": [
    "### Which countries have hosted the most refugees from Syria (top 10)? How many?\n",
    "See Tableau sheet \"Be\""
   ]
  },
  {
   "cell_type": "code",
   "execution_count": 127,
   "metadata": {},
   "outputs": [],
   "source": [
    "s_ref = df.loc[(df['Country / territory of asylum/residence'] != 'Syrian Arab Rep.') & \n",
    "              (df['Origin'] == 'Syrian Arab Rep.') &\n",
    "              (df['Population type'] == 'Refugees (incl. refugee-like situations)')]"
   ]
  },
  {
   "cell_type": "code",
   "execution_count": 128,
   "metadata": {},
   "outputs": [
    {
     "data": {
      "text/html": [
       "<div>\n",
       "<style scoped>\n",
       "    .dataframe tbody tr th:only-of-type {\n",
       "        vertical-align: middle;\n",
       "    }\n",
       "\n",
       "    .dataframe tbody tr th {\n",
       "        vertical-align: top;\n",
       "    }\n",
       "\n",
       "    .dataframe thead th {\n",
       "        text-align: right;\n",
       "    }\n",
       "</style>\n",
       "<table border=\"1\" class=\"dataframe\">\n",
       "  <thead>\n",
       "    <tr style=\"text-align: right;\">\n",
       "      <th></th>\n",
       "      <th>Value</th>\n",
       "    </tr>\n",
       "    <tr>\n",
       "      <th>Country / territory of asylum/residence</th>\n",
       "      <th></th>\n",
       "    </tr>\n",
       "  </thead>\n",
       "  <tbody>\n",
       "    <tr>\n",
       "      <th>Turkey</th>\n",
       "      <td>14766264</td>\n",
       "    </tr>\n",
       "    <tr>\n",
       "      <th>Lebanon</th>\n",
       "      <td>6137704</td>\n",
       "    </tr>\n",
       "    <tr>\n",
       "      <th>Jordan</th>\n",
       "      <td>4054369</td>\n",
       "    </tr>\n",
       "    <tr>\n",
       "      <th>Germany</th>\n",
       "      <td>1708609</td>\n",
       "    </tr>\n",
       "    <tr>\n",
       "      <th>Iraq</th>\n",
       "      <td>1492782</td>\n",
       "    </tr>\n",
       "    <tr>\n",
       "      <th>Egypt</th>\n",
       "      <td>776151</td>\n",
       "    </tr>\n",
       "    <tr>\n",
       "      <th>Sweden</th>\n",
       "      <td>464341</td>\n",
       "    </tr>\n",
       "    <tr>\n",
       "      <th>Austria</th>\n",
       "      <td>153202</td>\n",
       "    </tr>\n",
       "    <tr>\n",
       "      <th>Netherlands</th>\n",
       "      <td>149071</td>\n",
       "    </tr>\n",
       "    <tr>\n",
       "      <th>Sudan</th>\n",
       "      <td>115316</td>\n",
       "    </tr>\n",
       "  </tbody>\n",
       "</table>\n",
       "</div>"
      ],
      "text/plain": [
       "                                            Value\n",
       "Country / territory of asylum/residence          \n",
       "Turkey                                   14766264\n",
       "Lebanon                                   6137704\n",
       "Jordan                                    4054369\n",
       "Germany                                   1708609\n",
       "Iraq                                      1492782\n",
       "Egypt                                      776151\n",
       "Sweden                                     464341\n",
       "Austria                                    153202\n",
       "Netherlands                                149071\n",
       "Sudan                                      115316"
      ]
     },
     "execution_count": 128,
     "metadata": {},
     "output_type": "execute_result"
    }
   ],
   "source": [
    "s_ref.groupby(['Country / territory of asylum/residence']).sum()[['Value']].sort_values(['Value'], ascending=False).head(10)"
   ]
  },
  {
   "cell_type": "markdown",
   "metadata": {},
   "source": [
    "### Could you predict the number of Syrian refugees in 2025?"
   ]
  },
  {
   "cell_type": "code",
   "execution_count": 130,
   "metadata": {},
   "outputs": [],
   "source": [
    "refugees = df.loc[(df['Population type']=='Refugees (incl. refugee-like situations)') &\n",
    "                  (df['Origin'] == 'Syrian Arab Rep.')]\n",
    "ref_yearly = refugees.groupby(['Year']).agg({'Value': 'sum'})"
   ]
  },
  {
   "cell_type": "code",
   "execution_count": 131,
   "metadata": {},
   "outputs": [
    {
     "data": {
      "text/plain": [
       "<matplotlib.axes._subplots.AxesSubplot at 0x16722cfa898>"
      ]
     },
     "execution_count": 131,
     "metadata": {},
     "output_type": "execute_result"
    },
    {
     "data": {
      "image/png": "[encoded data removed]",
      "text/plain": [
       "<Figure size 432x288 with 1 Axes>"
      ]
     },
     "metadata": {
      "needs_background": "light"
     },
     "output_type": "display_data"
    }
   ],
   "source": [
    "ref_yearly.plot()"
   ]
  },
  {
   "cell_type": "code",
   "execution_count": 132,
   "metadata": {},
   "outputs": [
    {
     "name": "stderr",
     "output_type": "stream",
     "text": [
      "C:\\Users\\olive\\AppData\\Local\\Continuum\\anaconda3\\envs\\deeplearning\\lib\\site-packages\\statsmodels\\tsa\\base\\tsa_model.py:221: ValueWarning: An unsupported index was provided and will be ignored when e.g. forecasting.\n",
      "  ' ignored when e.g. forecasting.', ValueWarning)\n",
      "C:\\Users\\olive\\AppData\\Local\\Continuum\\anaconda3\\envs\\deeplearning\\lib\\site-packages\\statsmodels\\tsa\\base\\tsa_model.py:531: ValueWarning: No supported index is available. Prediction results will be given with an integer index beginning at `start`.\n",
      "  ValueWarning)\n"
     ]
    }
   ],
   "source": [
    "forward = 10\n",
    "fit1 = Holt(ref_yearly).fit()\n",
    "y_hat = pd.DataFrame(fit1.forecast(forward))\n",
    "y_hat['index'] = np.arange(ref_yearly.index.max()+1, ref_yearly.index.max()+forward+1)\n",
    "y_hat = y_hat.set_index('index')"
   ]
  },
  {
   "cell_type": "code",
   "execution_count": 135,
   "metadata": {},
   "outputs": [
    {
     "name": "stdout",
     "output_type": "stream",
     "text": [
      "2025 Syrian Refugees: 9074351\n"
     ]
    }
   ],
   "source": [
    "print(\"2025 Syrian Refugees: {}\".format(int(y_hat.loc[2025, 0])))"
   ]
  },
  {
   "cell_type": "code",
   "execution_count": 136,
   "metadata": {},
   "outputs": [
    {
     "data": {
      "text/plain": [
       "<matplotlib.axes._subplots.AxesSubplot at 0x1672056bc88>"
      ]
     },
     "execution_count": 136,
     "metadata": {},
     "output_type": "execute_result"
    },
    {
     "data": {
      "image/png": "[encoded data removed]",
      "text/plain": [
       "<Figure size 432x288 with 1 Axes>"
      ]
     },
     "metadata": {
      "needs_background": "light"
     },
     "output_type": "display_data"
    }
   ],
   "source": [
    "ax = y_hat.plot()\n",
    "ref_yearly.plot(ax=ax)"
   ]
  },
  {
   "cell_type": "markdown",
   "metadata": {},
   "source": [
    "# Summarize your insight into the Syrian refugee crisis from the data you have into a visualization / story. What else of interest did you find in the data?"
   ]
  },
  {
   "cell_type": "markdown",
   "metadata": {},
   "source": [
    "Something I had not considered up until this point was how there were virtually no Syrian refugees before 2012. Not only does the recency of this issue shock me but the percentage of those refugees compared to the poplulation of Syria is staggering (roughly 36%). This is truely a heartbreaking catastrophe.\n",
    "\n",
    "Another revelation I found was that the number of refugees worldwide seems to be increasing. I find this fact bizzare because to my knowledge the number of violent conflicts worldwide had been decreasing over this past half century. Perhaps we've entered a world where a small number of violent conflicts is displacing a disproportionate number of people. Needless to say this increasing number of refugees is a terrible trend & I hope this is just a short-term anomaly instead of a growing issue. "
   ]
  },
  {
   "cell_type": "markdown",
   "metadata": {},
   "source": [
    "# What challenges did you face to get to your results?"
   ]
  },
  {
   "cell_type": "markdown",
   "metadata": {},
   "source": [
    "Having a stronger background in Python than Tableau I had a hard time jumping back and forth from the Tableau workbook to my jupyter notebook. I find the simple \"groupby\" questions quite intuitive & simple to complete in the python environment - but when a visualization is required to communicate the idea - jumping back into the Tableau rhythm was a bit of an issue. I still don't find Tableau to be that intuitive to use (I am more used to Power BI). \n",
    "\n",
    "The forecasting questions were a funny one for me - I used a simple holt forecast to get my results but I do believe a more sophisticated analysis is required to forecast the number of refugees worldwide. A simple linear forecast will not do as it does not take into consideration factors that influence refugee generation. I used this method due to the obivous time constraints however I would not consider this a thorough analysis by any stretch."
   ]
  },
  {
   "cell_type": "markdown",
   "metadata": {},
   "source": [
    "# Optional and time permitting only (bonus):\n",
    "    • Provide a comparison between the number of refugees received by the top 3 countries and their total population\n",
    "    \n",
    "For this I added population data from https://data.worldbank.org/indicator/SP.POP.TOTL\n",
    "    \n",
    "See Tableau worksheet \"Bonus1\"... I imported another data source but couldn't figure out how to turn the population into the denominator on the pie chart"
   ]
  },
  {
   "cell_type": "markdown",
   "metadata": {},
   "source": [
    "    • Given the data and the external references provided (or found by you), what other insights could you generate with the data?\n",
    "    \n",
    "Given a more thorough investigation with the population data I could repeat this workflow with % of population instead of total sum of people. Reporting on refugees living abroad has more context if you know the population of the host country"
   ]
  }
 ],
 "metadata": {
  "kernelspec": {
   "display_name": "Python 3",
   "language": "python",
   "name": "python3"
  },
  "language_info": {
   "codemirror_mode": {
    "name": "ipython",
    "version": 3
   },
   "file_extension": ".py",
   "mimetype": "text/x-python",
   "name": "python",
   "nbconvert_exporter": "python",
   "pygments_lexer": "ipython3",
   "version": "3.7.2"
  }
 },
 "nbformat": 4,
 "nbformat_minor": 2
}
